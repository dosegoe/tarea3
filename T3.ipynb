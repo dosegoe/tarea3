{
 "cells": [
  {
   "cell_type": "markdown",
   "metadata": {},
   "source": [
    "# Tarea 3 - Ensamblados y modelos de aprendizaje\n",
    "\n",
    "Yoel Berant - 201604519-8\n",
    "\n",
    "Diego Valderas - 201673549-6"
   ]
  },
  {
   "cell_type": "markdown",
   "metadata": {},
   "source": [
    "## Sección 1 - Ensamblados para regresión\n",
    "\n",
    "En esta sección, se trata de encontrar un modelo de regresión capaz de predecir la temperatura en grados Fahrenheit (°F) de un día según datos registrados en el día anterior. Se utilizará el dataset *DailyDelhiClimateTrain*, el cual contiene información sobre el clima en Nueva Delhi entre el 2013 y el 2016 [[1]](#refs). Como variantes a considerar se usarán tanto datos meteorológicos (la temperatura, la humedad, la velocidad del viendo y la presión del día anterior) como datos que tengan relación con la fecha (el mes, el año (considerando el cambio climático) la estación del año)."
   ]
  },
  {
   "cell_type": "code",
   "execution_count": 1,
   "metadata": {},
   "outputs": [
    {
     "ename": "FileNotFoundError",
     "evalue": "File b'DailyDelhiClimateTrain.csv' does not exist",
     "output_type": "error",
     "traceback": [
      "\u001b[1;31m---------------------------------------------------------------------------\u001b[0m",
      "\u001b[1;31mFileNotFoundError\u001b[0m                         Traceback (most recent call last)",
      "\u001b[1;32m<ipython-input-1-5bef5dfef625>\u001b[0m in \u001b[0;36m<module>\u001b[1;34m()\u001b[0m\n\u001b[0;32m      1\u001b[0m \u001b[1;32mimport\u001b[0m \u001b[0mpandas\u001b[0m \u001b[1;32mas\u001b[0m \u001b[0mpd\u001b[0m\u001b[1;33m\u001b[0m\u001b[1;33m\u001b[0m\u001b[0m\n\u001b[1;32m----> 2\u001b[1;33m \u001b[0mdf\u001b[0m \u001b[1;33m=\u001b[0m \u001b[0mpd\u001b[0m\u001b[1;33m.\u001b[0m\u001b[0mread_csv\u001b[0m\u001b[1;33m(\u001b[0m\u001b[1;34m\"DailyDelhiClimateTrain.csv\"\u001b[0m\u001b[1;33m)\u001b[0m\u001b[1;33m\u001b[0m\u001b[1;33m\u001b[0m\u001b[0m\n\u001b[0m\u001b[0;32m      3\u001b[0m \u001b[0mdf\u001b[0m\u001b[1;33m[\u001b[0m\u001b[1;34m\"y_value\"\u001b[0m\u001b[1;33m]\u001b[0m \u001b[1;33m=\u001b[0m \u001b[0mdf\u001b[0m\u001b[1;33m[\u001b[0m\u001b[1;34m\"meantemp\"\u001b[0m\u001b[1;33m]\u001b[0m\u001b[1;33m.\u001b[0m\u001b[0mshift\u001b[0m\u001b[1;33m(\u001b[0m\u001b[1;33m-\u001b[0m\u001b[1;36m1\u001b[0m\u001b[1;33m)\u001b[0m\u001b[1;33m\u001b[0m\u001b[1;33m\u001b[0m\u001b[0m\n\u001b[0;32m      4\u001b[0m \u001b[0mdf\u001b[0m \u001b[1;33m=\u001b[0m \u001b[0mdf\u001b[0m\u001b[1;33m.\u001b[0m\u001b[0miloc\u001b[0m\u001b[1;33m[\u001b[0m\u001b[1;33m:\u001b[0m\u001b[1;33m-\u001b[0m\u001b[1;36m1\u001b[0m\u001b[1;33m]\u001b[0m \u001b[1;31m#remove last row\u001b[0m\u001b[1;33m\u001b[0m\u001b[1;33m\u001b[0m\u001b[0m\n\u001b[0;32m      5\u001b[0m \u001b[1;33m\u001b[0m\u001b[0m\n",
      "\u001b[1;32m~\\Anaconda3\\lib\\site-packages\\pandas\\io\\parsers.py\u001b[0m in \u001b[0;36mparser_f\u001b[1;34m(filepath_or_buffer, sep, delimiter, header, names, index_col, usecols, squeeze, prefix, mangle_dupe_cols, dtype, engine, converters, true_values, false_values, skipinitialspace, skiprows, nrows, na_values, keep_default_na, na_filter, verbose, skip_blank_lines, parse_dates, infer_datetime_format, keep_date_col, date_parser, dayfirst, iterator, chunksize, compression, thousands, decimal, lineterminator, quotechar, quoting, escapechar, comment, encoding, dialect, tupleize_cols, error_bad_lines, warn_bad_lines, skipfooter, doublequote, delim_whitespace, low_memory, memory_map, float_precision)\u001b[0m\n\u001b[0;32m    676\u001b[0m                     skip_blank_lines=skip_blank_lines)\n\u001b[0;32m    677\u001b[0m \u001b[1;33m\u001b[0m\u001b[0m\n\u001b[1;32m--> 678\u001b[1;33m         \u001b[1;32mreturn\u001b[0m \u001b[0m_read\u001b[0m\u001b[1;33m(\u001b[0m\u001b[0mfilepath_or_buffer\u001b[0m\u001b[1;33m,\u001b[0m \u001b[0mkwds\u001b[0m\u001b[1;33m)\u001b[0m\u001b[1;33m\u001b[0m\u001b[1;33m\u001b[0m\u001b[0m\n\u001b[0m\u001b[0;32m    679\u001b[0m \u001b[1;33m\u001b[0m\u001b[0m\n\u001b[0;32m    680\u001b[0m     \u001b[0mparser_f\u001b[0m\u001b[1;33m.\u001b[0m\u001b[0m__name__\u001b[0m \u001b[1;33m=\u001b[0m \u001b[0mname\u001b[0m\u001b[1;33m\u001b[0m\u001b[1;33m\u001b[0m\u001b[0m\n",
      "\u001b[1;32m~\\Anaconda3\\lib\\site-packages\\pandas\\io\\parsers.py\u001b[0m in \u001b[0;36m_read\u001b[1;34m(filepath_or_buffer, kwds)\u001b[0m\n\u001b[0;32m    438\u001b[0m \u001b[1;33m\u001b[0m\u001b[0m\n\u001b[0;32m    439\u001b[0m     \u001b[1;31m# Create the parser.\u001b[0m\u001b[1;33m\u001b[0m\u001b[1;33m\u001b[0m\u001b[1;33m\u001b[0m\u001b[0m\n\u001b[1;32m--> 440\u001b[1;33m     \u001b[0mparser\u001b[0m \u001b[1;33m=\u001b[0m \u001b[0mTextFileReader\u001b[0m\u001b[1;33m(\u001b[0m\u001b[0mfilepath_or_buffer\u001b[0m\u001b[1;33m,\u001b[0m \u001b[1;33m**\u001b[0m\u001b[0mkwds\u001b[0m\u001b[1;33m)\u001b[0m\u001b[1;33m\u001b[0m\u001b[1;33m\u001b[0m\u001b[0m\n\u001b[0m\u001b[0;32m    441\u001b[0m \u001b[1;33m\u001b[0m\u001b[0m\n\u001b[0;32m    442\u001b[0m     \u001b[1;32mif\u001b[0m \u001b[0mchunksize\u001b[0m \u001b[1;32mor\u001b[0m \u001b[0miterator\u001b[0m\u001b[1;33m:\u001b[0m\u001b[1;33m\u001b[0m\u001b[1;33m\u001b[0m\u001b[0m\n",
      "\u001b[1;32m~\\Anaconda3\\lib\\site-packages\\pandas\\io\\parsers.py\u001b[0m in \u001b[0;36m__init__\u001b[1;34m(self, f, engine, **kwds)\u001b[0m\n\u001b[0;32m    785\u001b[0m             \u001b[0mself\u001b[0m\u001b[1;33m.\u001b[0m\u001b[0moptions\u001b[0m\u001b[1;33m[\u001b[0m\u001b[1;34m'has_index_names'\u001b[0m\u001b[1;33m]\u001b[0m \u001b[1;33m=\u001b[0m \u001b[0mkwds\u001b[0m\u001b[1;33m[\u001b[0m\u001b[1;34m'has_index_names'\u001b[0m\u001b[1;33m]\u001b[0m\u001b[1;33m\u001b[0m\u001b[1;33m\u001b[0m\u001b[0m\n\u001b[0;32m    786\u001b[0m \u001b[1;33m\u001b[0m\u001b[0m\n\u001b[1;32m--> 787\u001b[1;33m         \u001b[0mself\u001b[0m\u001b[1;33m.\u001b[0m\u001b[0m_make_engine\u001b[0m\u001b[1;33m(\u001b[0m\u001b[0mself\u001b[0m\u001b[1;33m.\u001b[0m\u001b[0mengine\u001b[0m\u001b[1;33m)\u001b[0m\u001b[1;33m\u001b[0m\u001b[1;33m\u001b[0m\u001b[0m\n\u001b[0m\u001b[0;32m    788\u001b[0m \u001b[1;33m\u001b[0m\u001b[0m\n\u001b[0;32m    789\u001b[0m     \u001b[1;32mdef\u001b[0m \u001b[0mclose\u001b[0m\u001b[1;33m(\u001b[0m\u001b[0mself\u001b[0m\u001b[1;33m)\u001b[0m\u001b[1;33m:\u001b[0m\u001b[1;33m\u001b[0m\u001b[1;33m\u001b[0m\u001b[0m\n",
      "\u001b[1;32m~\\Anaconda3\\lib\\site-packages\\pandas\\io\\parsers.py\u001b[0m in \u001b[0;36m_make_engine\u001b[1;34m(self, engine)\u001b[0m\n\u001b[0;32m   1012\u001b[0m     \u001b[1;32mdef\u001b[0m \u001b[0m_make_engine\u001b[0m\u001b[1;33m(\u001b[0m\u001b[0mself\u001b[0m\u001b[1;33m,\u001b[0m \u001b[0mengine\u001b[0m\u001b[1;33m=\u001b[0m\u001b[1;34m'c'\u001b[0m\u001b[1;33m)\u001b[0m\u001b[1;33m:\u001b[0m\u001b[1;33m\u001b[0m\u001b[1;33m\u001b[0m\u001b[0m\n\u001b[0;32m   1013\u001b[0m         \u001b[1;32mif\u001b[0m \u001b[0mengine\u001b[0m \u001b[1;33m==\u001b[0m \u001b[1;34m'c'\u001b[0m\u001b[1;33m:\u001b[0m\u001b[1;33m\u001b[0m\u001b[1;33m\u001b[0m\u001b[0m\n\u001b[1;32m-> 1014\u001b[1;33m             \u001b[0mself\u001b[0m\u001b[1;33m.\u001b[0m\u001b[0m_engine\u001b[0m \u001b[1;33m=\u001b[0m \u001b[0mCParserWrapper\u001b[0m\u001b[1;33m(\u001b[0m\u001b[0mself\u001b[0m\u001b[1;33m.\u001b[0m\u001b[0mf\u001b[0m\u001b[1;33m,\u001b[0m \u001b[1;33m**\u001b[0m\u001b[0mself\u001b[0m\u001b[1;33m.\u001b[0m\u001b[0moptions\u001b[0m\u001b[1;33m)\u001b[0m\u001b[1;33m\u001b[0m\u001b[1;33m\u001b[0m\u001b[0m\n\u001b[0m\u001b[0;32m   1015\u001b[0m         \u001b[1;32melse\u001b[0m\u001b[1;33m:\u001b[0m\u001b[1;33m\u001b[0m\u001b[1;33m\u001b[0m\u001b[0m\n\u001b[0;32m   1016\u001b[0m             \u001b[1;32mif\u001b[0m \u001b[0mengine\u001b[0m \u001b[1;33m==\u001b[0m \u001b[1;34m'python'\u001b[0m\u001b[1;33m:\u001b[0m\u001b[1;33m\u001b[0m\u001b[1;33m\u001b[0m\u001b[0m\n",
      "\u001b[1;32m~\\Anaconda3\\lib\\site-packages\\pandas\\io\\parsers.py\u001b[0m in \u001b[0;36m__init__\u001b[1;34m(self, src, **kwds)\u001b[0m\n\u001b[0;32m   1706\u001b[0m         \u001b[0mkwds\u001b[0m\u001b[1;33m[\u001b[0m\u001b[1;34m'usecols'\u001b[0m\u001b[1;33m]\u001b[0m \u001b[1;33m=\u001b[0m \u001b[0mself\u001b[0m\u001b[1;33m.\u001b[0m\u001b[0musecols\u001b[0m\u001b[1;33m\u001b[0m\u001b[1;33m\u001b[0m\u001b[0m\n\u001b[0;32m   1707\u001b[0m \u001b[1;33m\u001b[0m\u001b[0m\n\u001b[1;32m-> 1708\u001b[1;33m         \u001b[0mself\u001b[0m\u001b[1;33m.\u001b[0m\u001b[0m_reader\u001b[0m \u001b[1;33m=\u001b[0m \u001b[0mparsers\u001b[0m\u001b[1;33m.\u001b[0m\u001b[0mTextReader\u001b[0m\u001b[1;33m(\u001b[0m\u001b[0msrc\u001b[0m\u001b[1;33m,\u001b[0m \u001b[1;33m**\u001b[0m\u001b[0mkwds\u001b[0m\u001b[1;33m)\u001b[0m\u001b[1;33m\u001b[0m\u001b[1;33m\u001b[0m\u001b[0m\n\u001b[0m\u001b[0;32m   1709\u001b[0m \u001b[1;33m\u001b[0m\u001b[0m\n\u001b[0;32m   1710\u001b[0m         \u001b[0mpassed_names\u001b[0m \u001b[1;33m=\u001b[0m \u001b[0mself\u001b[0m\u001b[1;33m.\u001b[0m\u001b[0mnames\u001b[0m \u001b[1;32mis\u001b[0m \u001b[1;32mNone\u001b[0m\u001b[1;33m\u001b[0m\u001b[1;33m\u001b[0m\u001b[0m\n",
      "\u001b[1;32mpandas\\_libs\\parsers.pyx\u001b[0m in \u001b[0;36mpandas._libs.parsers.TextReader.__cinit__\u001b[1;34m()\u001b[0m\n",
      "\u001b[1;32mpandas\\_libs\\parsers.pyx\u001b[0m in \u001b[0;36mpandas._libs.parsers.TextReader._setup_parser_source\u001b[1;34m()\u001b[0m\n",
      "\u001b[1;31mFileNotFoundError\u001b[0m: File b'DailyDelhiClimateTrain.csv' does not exist"
     ]
    }
   ],
   "source": [
    "import pandas as pd\n",
    "df = pd.read_csv(\"DailyDelhiClimateTrain.csv\")\n",
    "df[\"y_value\"] = df[\"meantemp\"].shift(-1)\n",
    "df = df.iloc[:-1] #remove last row\n",
    "\n",
    "#procesamiento de fecha(datetime/timestamp) a numeros\n",
    "df[\"date\"] = pd.to_datetime(df[\"date\"])\n",
    "#df['cday'] = df['date'].dt.dayofweek #0:lunes,6:domingo el dia de la semana no importa la verdad\n",
    "df['year'] = df['date'].dt.year #considerando el cambio climatico, el año es importante\n",
    "df['month'] = df['date'].dt.month #1:enero, 12: diciembre\n",
    "\n",
    "#estaciones (en delhi, hemisferio norte. A la primavera se le llama \"rainy\"), one hot.\n",
    "seasons = [\"winter\",\"winter\",\"summer\",\"summer\",\"summer\",\"rainy\",\"rainy\",\"rainy\",\"fall\",\"fall\",\"fall\",\"winter\"]\n",
    "df['season'] = [ seasons[month_i - 1] for month_i in df['month'].values ]\n",
    "df = pd.get_dummies(df,columns=['season']) #to one hot.. as nominal variable\n",
    "\n"
   ]
  },
  {
   "cell_type": "markdown",
   "metadata": {},
   "source": [
    "El conjunto de entrenamiento en este caso corresponderá a los primeros 1000 datos del data set, ordenados aleatoriamente. Los datos de validación corresponden a los 461 ejemplos restantes."
   ]
  },
  {
   "cell_type": "code",
   "execution_count": null,
   "metadata": {},
   "outputs": [],
   "source": [
    "#matrices de entrenamiento->primeros 1000 ejemplos, en orden aleatorio\n",
    "y = df.pop(\"y_value\").values\n",
    "X = df.values \n",
    "x_train = X[:1000]\n",
    "y_train = y[:1000]\n",
    "x_val = X[1000:]\n",
    "y_val = y[1000:]\n",
    "#print(len(X_val))->461\n",
    "from sklearn.utils import shuffle\n",
    "x_train, y_train = shuffle(x_train, y_train)"
   ]
  },
  {
   "cell_type": "markdown",
   "metadata": {},
   "source": [
    "En este caso, para construir nuestros modelos de regresión, utilizaremos técnicas de ensamblaje, las cuales consisten básicamente en combinar varios modelos en uno solo."
   ]
  },
  {
   "cell_type": "markdown",
   "metadata": {},
   "source": [
    "### a) \n",
    "A continuación, se hará un breve análisis de los datos a trabajar."
   ]
  },
  {
   "cell_type": "code",
   "execution_count": null,
   "metadata": {},
   "outputs": [],
   "source": [
    "#a)descripcion - ??????\n",
    "df.describe()"
   ]
  },
  {
   "cell_type": "code",
   "execution_count": null,
   "metadata": {},
   "outputs": [],
   "source": [
    "df[:10]#los primeros 10 datos"
   ]
  },
  {
   "cell_type": "markdown",
   "metadata": {},
   "source": [
    "Al parecer, los datos vienen ordenados por fecha, lo cual ahora resultará muy útil pues, a continuación, se grafican las temperaturas registradas según la fecha:"
   ]
  },
  {
   "cell_type": "code",
   "execution_count": null,
   "metadata": {},
   "outputs": [],
   "source": [
    "import matplotlib.pyplot as plt\n",
    "\n",
    "plt.figure(figsize=(8,5))\n",
    "plt.title('temperaturas registradas de datos, orderandos por fecha')\n",
    "plt.ylabel('temperatura')\n",
    "plt.xlabel('día')\n",
    "plt.plot(range(len(y)),y)\n",
    "plt.show()"
   ]
  },
  {
   "cell_type": "markdown",
   "metadata": {},
   "source": [
    "El gráfico claramente evidencia una relación entre la época del año y la temperatura descrita. No obstante, se presenta un cierto nivel de ruido. \n",
    "\n",
    "Es por esto que si bien es una variable importante, la temperatura anterior por si sola no es suficiente para predecir la temperatura del día actual. Es necesario considerar el mes y la época, mas aún cuando el valor a predecir es de regresión y no de clasificación.\n",
    "\n",
    "Puesto que cada día tiene una fecha única (en formato timestamp), no se considerá a la fecha como un parámetro predictor de los futuros modelos. Es por esto que se elimina este valor de los datos. Tampoco se tomará en cuenta los años, debido a que, según el gráfico, no parece existir una diferencia significativa de temperaturas entre los años (se puede ver la \"forma\" de cada año en el gráfico, considerando que un año tiene 365 días)."
   ]
  },
  {
   "cell_type": "code",
   "execution_count": null,
   "metadata": {},
   "outputs": [],
   "source": [
    "import numpy as np\n",
    "#borrar fechas exactas\n",
    "X_train=np.delete(x_train,0,1)\n",
    "X_val=np.delete(x_val,0,1)\n",
    "#borrar años\n",
    "X_train=np.delete(X_train,4,1)\n",
    "X_val=np.delete(X_val,4,1)"
   ]
  },
  {
   "cell_type": "markdown",
   "metadata": {},
   "source": [
    "### b)\n",
    "Uno de los métodos de aprendizaje que más se usan con ensamblados son los árboles de decisión. A continuación, se evaluará el desempeño obtenido al usar arboles de decisión para regresión sin usar esta técnica. Usaremos tanto un árbol regularizado (con una profundidad máxima, número mínimo de nodos para Split y numero mínimo de nodos en una hoja fijos) como uno no regularizado. Un beneficio de usar árboles de decisión es que no es necesario escalar o normalizar los datos de entrada, puesto que los algoritmos que se encargan de realizar las particiones no requieren de un escalamiento ya que solo necesitan elegir una variable y fijar en ella un punto de split."
   ]
  },
  {
   "cell_type": "code",
   "execution_count": null,
   "metadata": {},
   "outputs": [],
   "source": [
    "from sklearn.tree import DecisionTreeRegressor as Tree\n",
    "#arbol no regularizado:\n",
    "model_unr = Tree() \n",
    "model_unr.fit(X_train,y_train)\n",
    "\n",
    "#arbol regularizado:\n",
    "model_reg=Tree(max_depth=150,min_samples_split=7,min_samples_leaf=12)  \n",
    "model_reg.fit(X_train,y_train)\n",
    "\n",
    "\n"
   ]
  },
  {
   "cell_type": "markdown",
   "metadata": {},
   "source": [
    "En este problema se usará como métrica de error el *Root Mean Squared Error*, que corresponde a la raíz al cuadrada del promedio de los errores al cuadrado:\n",
    "\n",
    "$$\n",
    "RMSE=\\sqrt{\\frac{1}{n}\\sum_{i=1}^{n}(\\hat{y_{i}}-y_{i})^{2}}\n",
    "$$"
   ]
  },
  {
   "cell_type": "code",
   "execution_count": null,
   "metadata": {},
   "outputs": [],
   "source": [
    "def RMSE(ytrue,ypred):\n",
    "    return np.sqrt(np.mean(np.square(ytrue - ypred)) )"
   ]
  },
  {
   "cell_type": "markdown",
   "metadata": {},
   "source": [
    "A continuación se evaluarán los RMSE de entrenamiento y validación de los arboles entrenados en el inciso anterior, y se graficarán tanto los valores de validación como las predicciones hechas por los árboles:"
   ]
  },
  {
   "cell_type": "code",
   "execution_count": null,
   "metadata": {},
   "outputs": [],
   "source": [
    "def plot_RMSE(model,title=None):\n",
    "    print(title,\":\")\n",
    "    y_train_hat = model.predict(X_train)\n",
    "    y_val_hat = model.predict(X_val)\n",
    "    print(\"RMSE train= \",RMSE(y_train,y_train_hat))\n",
    "    print(\"RMSE val= \",RMSE(y_val,y_val_hat))\n",
    "    plt.figure(figsize=(8,5))\n",
    "    plt.title(\"predicciones de temperatura del conjunto de validacion y sus valores reales\")\n",
    "    plt.xlabel(\"días\")\n",
    "    plt.title(title)\n",
    "    plt.plot(y_val, '.-' ,label=\"True values\")\n",
    "    plt.plot(y_val_hat, '.-' ,label=\"Pred values\")\n",
    "    plt.legend()\n",
    "    plt.show()\n",
    "\n",
    "\n",
    "plot_RMSE(model_reg,\"valores y prediccion con arbol regularizado (maxdepth=100,minsamplessplit=20,minsamplesleaf=7) en validación \")\n",
    "plot_RMSE(model_unr,\"valores y prediccion con arbol no regularizado en validación\")\n",
    "\n",
    "#tldr; no regularizado tiende al overfitting"
   ]
  },
  {
   "cell_type": "markdown",
   "metadata": {},
   "source": [
    "Lo primero que hay que notar es que el RMSE registrado de entrenamiento con el árbol no regularizado es de 0, pero el RMSE de validación de este mismo árbol es de 2.56 aprox, lo cual es mucho mayor al RMSE de validación del árbol regularizado: 1.783. Si bien el RMSE de entrenamiento del árbol regularizado (1.45) es mayor al del árbol no regularizado (0), no existe tanta diferencia entre este y el RMSE de validación del árbol regularizado. En otras palabras, un árbol no regularizado produce overfitting.\n",
    "\n",
    "Por otro lado, considerando que el RMSE de validación es menor en el árbol regularizado, podemos observar en sus gráficos que los valores de predicción se asemejan más a los verdaderos en el árbol regularizado, aunque en ninguno de los gráficos se observa un error de predicción significativo."
   ]
  },
  {
   "cell_type": "markdown",
   "metadata": {},
   "source": [
    "### d)\n",
    "La primera técnica de ensamblado es el bagging [[2]](#refs). Esta consiste en simular un espacio de muestra mucho más grande al que se tiene a partir de este, generando varias muestras aleatorias con datos de la muestra original, los cuales se pueden repetir o pueden no salir: técnica conocida como *bootstrap*. Cada muestra se utilizará para entrenar un modelo de aprendizaje: en este caso, arboles de regresión regularizados o no regularizados.\n",
    "\n",
    "Finalmente, para predecir un dato, se pasa por todos los modelos de aprendizaje (arboles) y se promedian las predicciones realizados por estos (en caso de que los modelos fueran de clasificación en lugar de regresión, se elegiría la clase más predicha por los modelos).\n",
    "\n",
    "<img src=\"http://cdn.differencebetween.net/wp-content/uploads/2019/09/Difference-Between-Bagging-and-Random-Forest-768x494.png\" title=\"Bagging\" width=\"50%\" height=\"30%\"  />"
   ]
  },
  {
   "cell_type": "markdown",
   "metadata": {},
   "source": [
    "A continuación, se entrenaran ensamblados con árboles de regresión tanto regularizados como no regularizados (similar al inciso b)). Se graficarán los RMSE registrados según la cantidad de árboles usados para el ensamblaje (n_estimators)."
   ]
  },
  {
   "cell_type": "code",
   "execution_count": null,
   "metadata": {},
   "outputs": [],
   "source": [
    "from sklearn.ensemble import BaggingRegressor\n",
    "\n",
    "def compare_bagging(maxDepth=150,minSamplesSplit=7,minSamplesLeaf=12,x=X_train,y=y_train):\n",
    "    nE=np.arange(5, 100, 5)#nestimators es el numero de arboles distintos en el que se hará la regresion. Esta es una lista de posibles valores\n",
    "    Turg=[]\n",
    "    Vurg=[]\n",
    "    Treg=[]\n",
    "    Vreg=[]\n",
    "    print(\"entrenando y calculando...\")\n",
    "    \n",
    "    for nEstimators in nE:\n",
    "        bagging_reg=BaggingRegressor(base_estimator=Tree(max_depth=maxDepth,min_samples_split=minSamplesSplit,min_samples_leaf=minSamplesLeaf),n_estimators=nEstimators,n_jobs=-1)\n",
    "        bagging_reg.fit(x,y)\n",
    "        \n",
    "        y_train_hat_reg=bagging_reg.predict(X_train)\n",
    "        y_val_hat_reg=bagging_reg.predict(X_val)\n",
    "        RMSE_train_reg=RMSE(y_train,y_train_hat_reg)\n",
    "        RMSE_val_reg=RMSE(y_val,y_val_hat_reg)\n",
    "        Treg.append(RMSE_train_reg)\n",
    "        Vreg.append(RMSE_val_reg)\n",
    "\n",
    "        bagging_urg=BaggingRegressor(base_estimator=Tree(),n_estimators=nEstimators,n_jobs=-1)\n",
    "        bagging_urg.fit(x,y)\n",
    "        \n",
    "        y_train_hat_urg=bagging_urg.predict(X_train)\n",
    "        y_val_hat_urg=bagging_urg.predict(X_val)\n",
    "        RMSE_train_urg=RMSE(y_train,y_train_hat_urg)\n",
    "        RMSE_val_urg=RMSE(y_val,y_val_hat_urg) \n",
    "        Turg.append(RMSE_train_urg)\n",
    "        Vurg.append(RMSE_val_urg)\n",
    "    print(\"listo!\")\n",
    "    \n",
    "    plt.figure(figsize=(11,7))\n",
    "    plt.title(\"RMSE's de entrenamiento y validacion usando bagging según n_estimators\")\n",
    "    plt.ylabel(\"RMSE\")\n",
    "    plt.xlabel(\"n_estimator\")\n",
    "    plt.plot(nE,Vreg,label=\"RMSE de validacion, arboles regularizados\")\n",
    "    plt.plot(nE,Vurg,label=\"RMSE de validacion, arboles no regularizados\")\n",
    "    plt.plot(nE,Treg,label=\"RMSE de entrenamiento, arboles regularizados\")\n",
    "    plt.plot(nE,Turg,label=\"RMSE de entrenamiento, arboles no regularizados\")\n",
    "    \n",
    "    print(\"RMSE de validación con arboles no regularizados mínimo: \",min(Vurg),\" nestimator: \",nE[Vurg.index(min(Vurg))])\n",
    "    print(\"RMSE de validación con arboles regularizados mínimo: \",min(Vreg),\" nestimator: \",nE[Vreg.index(min(Vreg))])\n",
    "    \n",
    "    \n",
    "    plt.legend()\n",
    "    plt.show()\n",
    "    return\n",
    "\n",
    "    \n",
    "compare_bagging()\n",
    "#model = BaggingRegressor(base_estimator=Tree(...), n_estimators=..., n_jobs=-1)"
   ]
  },
  {
   "cell_type": "markdown",
   "metadata": {},
   "source": [
    "Similar a lo ocurrido en el inciso c), se visualiza un claro overfitting cuando se usan arboles no regularizados.\n",
    "Además, si bien se visualiza al principio del gráfico bajas en los RMSE (más cuando los arboles no están regularizados), luego los valores se mantienen relativamente estables en lugar de ser constantemente decrecientes. Esto sucede debido a que las técnicas de ensamblaje de regresión no reducen tanto el error de predicción de los árboles de aprendizaje, sino que en cambio reducen la varianza del error."
   ]
  },
  {
   "cell_type": "markdown",
   "metadata": {},
   "source": [
    "### e)\n",
    "Otra técnica de ensamblaje que se suele usar es *AdaBoost* [[3]](#refs). A diferencia de bagging, en lugar de remuestrear la muestra original de entrenamiento, comienza a entrenar un modelo (en este caso árbol de regresión regularizado o no regularizado) y, según los errores de predicción obtenidos sobre las instancias de la muestra original, reajusta los pesos de estas y vuelve a entrenar repetidamente modelos, con el fin de que los ejemplos más difíciles de predecir bien (o los que se predicen con más error) se enfaticen más en los árboles siguientes. \n",
    "\n",
    "Una consecuencia que conlleva el reajuste de pesos de los ejemplos es que los modelos (arboles) producidos estarán relacionados entre sí, en el sentido de que los errores registrados en un modelo repercutirán en el entrenamiento del modelo siguiente; a diferencia de lo ocurrido en bagging, donde cada árbol es generado aleatoriamente y es independiente a los demás árboles.\n",
    "\n",
    "Similar al inciso anterior, graficaremos los RMSE's obtenidos al usar esta técnica con árboles de regresión regularizados y no regularizados según el número de árboles."
   ]
  },
  {
   "cell_type": "code",
   "execution_count": null,
   "metadata": {},
   "outputs": [],
   "source": [
    "from sklearn.ensemble import AdaBoostRegressor\n",
    "\n",
    "def compare_adaboost(maxDepth=150,minSamplesSplit=7,minSamplesLeaf=12,x=X_train,y=y_train):\n",
    "    nE=np.arange(5, 100, 5)#nestimators es el numero de arboles distintos en el que se hará la regresion. Esta es una lista de posibles valores\n",
    "    Turg=[]\n",
    "    Vurg=[]\n",
    "    Treg=[]\n",
    "    Vreg=[]\n",
    "    print(\"entrenando y calculando...\")\n",
    "    \n",
    "    for nEstimators in nE:\n",
    "        ada_reg=AdaBoostRegressor(base_estimator=Tree(max_depth=maxDepth,min_samples_split=minSamplesSplit,min_samples_leaf=minSamplesLeaf),n_estimators=nEstimators)\n",
    "        ada_reg.fit(x,y)\n",
    "        \n",
    "        y_train_hat_reg=ada_reg.predict(X_train)\n",
    "        y_val_hat_reg=ada_reg.predict(X_val)\n",
    "        RMSE_train_reg=RMSE(y_train,y_train_hat_reg)\n",
    "        RMSE_val_reg=RMSE(y_val,y_val_hat_reg)\n",
    "        Treg.append(RMSE_train_reg)\n",
    "        Vreg.append(RMSE_val_reg)\n",
    "\n",
    "        ada_urg=AdaBoostRegressor(base_estimator=Tree(),n_estimators=nEstimators)\n",
    "        ada_urg.fit(x,y)\n",
    "        \n",
    "        y_train_hat_urg=ada_urg.predict(X_train)\n",
    "        y_val_hat_urg=ada_urg.predict(X_val)\n",
    "        RMSE_train_urg=RMSE(y_train,y_train_hat_urg)\n",
    "        RMSE_val_urg=RMSE(y_val,y_val_hat_urg) \n",
    "        Turg.append(RMSE_train_urg)\n",
    "        Vurg.append(RMSE_val_urg)\n",
    "    print(\"listo!\")\n",
    "    \n",
    "    plt.figure(figsize=(11,7))\n",
    "    plt.title(\"RMSE's de entrenamiento y validacion usando adaboosting segun n_estimators\")\n",
    "    plt.ylabel(\"RMSE\")\n",
    "    plt.xlabel(\"n_estimator\")\n",
    "    plt.plot(nE,Vreg,label=\"RMSE de validacion, arboles regularizados\")\n",
    "    plt.plot(nE,Vurg,label=\"RMSE de validacion, arboles no regularizados\")\n",
    "    plt.plot(nE,Treg,label=\"RMSE de entrenamiento, arboles regularizados\")\n",
    "    plt.plot(nE,Turg,label=\"RMSE de entrenamiento, arboles no regularizados\")\n",
    "    \n",
    "    print(\"RMSE de validación con arboles no regularizados mínimo: \",min(Vurg),\" nestimator: \",nE[Vurg.index(min(Vurg))])\n",
    "    print(\"RMSE de validación con arboles regularizados mínimo: \",min(Vreg),\" nestimator: \",nE[Vreg.index(min(Vreg))])\n",
    "    \n",
    "   \n",
    "    plt.legend()\n",
    "    plt.show()\n",
    "    return\n",
    "\n",
    "    \n",
    "compare_adaboost()"
   ]
  },
  {
   "cell_type": "markdown",
   "metadata": {},
   "source": [
    "Tal como ocurre en los incisos c) y d), existe un claro nivel de overfitting cuando se usan árboles de regresión.\n",
    "\n",
    "En el caso de los RMSE's de entrenamiento, tanto en árboles regularizados como en no regularizados, se nota una baja en los RMSE's a medida que suben los n_estimators (más al principio, luego parece converger), puesto que AdaBoost se empeña en corregir los errores durante el entrenamiento.\n",
    "\n",
    "En relación con lo ocurrido en bagging, los errores de entrenamiento en AdaBoost (de 1.1 a 1.3 cuando se regulariza y de 0 a 0.3 cuando no) son menores a los registrados en bagging (1.5 aprox al regularizar y 0.7 aprox al no regularizar). Sin embargo, en la validación, los RMSE's registrados en AdaBoost son mayores a los de bagging (aproximadamente 1.8 en AdaBoost tanto cuando se regulariza como cuando no, y aprox 1.7 y 1.6 en bagging, con árboles regularizados y no regularizados respectivamente). Nuevamente, esto sucede porque AdaBoost se enfoca demasiado a corregir errores durante la etapa de entrenamiento. Por lo tanto, si queremos minimizar los errores de validación parece más sensato remuestrear la muestra original como se realizó en bagging que ir reajustando los pesos de los ejemplos de la muestra para minimizar el error de entrenamiento.\n",
    "\n",
    "Una última cosa interesante que recalcar es que los errores de validación cuando se regulariza y cuando no se regulariza se asemejan."
   ]
  },
  {
   "cell_type": "markdown",
   "metadata": {},
   "source": [
    "### f)\n",
    "Otra técnica famosa de ensamblado que se suele usar para arboles de decisión es *random forest* [[4]](#refs). Esta técnica, aparte de realizar *bootstrap* al igual que en Bagging, se caracteriza por generar arboles de clasificación, omitiendo en cada decisión de partición un grupo de variables seleccionadas aleatoriamente, con el fin de variar el orden de los splits y la repercusión de este en la efectividad de los modelos."
   ]
  },
  {
   "cell_type": "code",
   "execution_count": null,
   "metadata": {},
   "outputs": [],
   "source": [
    "from sklearn.ensemble import RandomForestRegressor\n",
    "\n",
    "def compare_random_forest(maxDepth=150,minSamplesSplit=7,minSamplesLeaf=12,x=X_train,y=y_train):\n",
    "    nE=np.arange(5, 100, 5)#nestimators es el numero de arboles distintos en el que se hará la regresion. Esta es una lista de posibles valores\n",
    "    Turg=[]\n",
    "    Vurg=[]\n",
    "    Treg=[]\n",
    "    Vreg=[]\n",
    "    print(\"entrenando y calculando...\")\n",
    "    \n",
    "    for nEstimators in nE:\n",
    "        random_reg=RandomForestRegressor(max_depth=maxDepth,min_samples_split=minSamplesSplit,min_samples_leaf=minSamplesLeaf,n_estimators=nEstimators,n_jobs=-1)\n",
    "        random_reg.fit(x,y)\n",
    "        \n",
    "        y_train_hat_reg=random_reg.predict(X_train)\n",
    "        y_val_hat_reg=random_reg.predict(X_val)\n",
    "        RMSE_train_reg=RMSE(y_train,y_train_hat_reg)\n",
    "        RMSE_val_reg=RMSE(y_val,y_val_hat_reg)\n",
    "        Treg.append(RMSE_train_reg)\n",
    "        Vreg.append(RMSE_val_reg)\n",
    "\n",
    "        random_urg=RandomForestRegressor(n_estimators=nEstimators,n_jobs=-1)\n",
    "        random_urg.fit(x,y)\n",
    "        \n",
    "        y_train_hat_urg=random_urg.predict(X_train)\n",
    "        y_val_hat_urg=random_urg.predict(X_val)\n",
    "        RMSE_train_urg=RMSE(y_train,y_train_hat_urg)\n",
    "        RMSE_val_urg=RMSE(y_val,y_val_hat_urg) \n",
    "        Turg.append(RMSE_train_urg)\n",
    "        Vurg.append(RMSE_val_urg)\n",
    "    print(\"listo!\")\n",
    "    plt.figure(figsize=(11,7))\n",
    "    plt.title(\"RMSE's de entrenamiento y validacion usando random forest segun n_estimators\")\n",
    "    plt.ylabel(\"RMSE\")\n",
    "    plt.xlabel(\"n_estimator\")\n",
    "    plt.plot(nE,Vreg,label=\"RMSE de validacion, arboles regularizados\")\n",
    "    plt.plot(nE,Vurg,label=\"RMSE de validacion, arboles no regularizados\")\n",
    "    plt.plot(nE,Treg,label=\"RMSE de entrenamiento, arboles regularizados\")\n",
    "    plt.plot(nE,Turg,label=\"RMSE de entrenamiento, arboles no regularizados\")\n",
    "    \n",
    "    print(\"RMSE de validación con arboles no regularizados mínimo: \",min(Vurg),\" nestimator: \",nE[Vurg.index(min(Vurg))])\n",
    "    print(\"RMSE de validación con arboles regularizados mínimo: \",min(Vreg),\" nestimator: \",nE[Vreg.index(min(Vreg))])\n",
    "    \n",
    "    plt.legend()\n",
    "    plt.show()\n",
    "    return\n",
    "\n",
    "    \n",
    "compare_random_forest()\n",
    "#model_unr = RandomForestRegressor(n_estimators=..., n_jobs=-1)"
   ]
  },
  {
   "cell_type": "markdown",
   "metadata": {},
   "source": [
    "Como siempre, se produce overfitting cuando no se regulan los árboles. Además, los RMSE's de entrenamiento y validación de arboles regularizados son muy similares (bajo overfitting)."
   ]
  },
  {
   "cell_type": "markdown",
   "metadata": {},
   "source": [
    "### g) \n",
    "\n",
    "El *OOB error* (*out of bag error*) es el error que se obtiene cuando, durante la aplicación de bootstrap durante métodos como bagging y random forest, se evalúan en cada modelo, las instancias no incluidas en la muestra usada. Recordemos que en bootstrap, para cada modelo se crea una muestra de igual largo que la muestra original (el conjunto de entrenamiento), y se incluyen instancias de la muestra original elegidas aleatoria e independientemente. Como se pueden repetir las instancias, una porción de la muestra original no es incluida en cada muestra generada (aproximadamente un tercio de la muestra cuando el número de instancias es grande); esta porción es evaluada en el modelo correspondiente para obtener el OOB error.\n",
    "\n",
    "A continuación, se graficarán los OOB errors obtenidos usando bagging y random forest según número de árboles (n_estimators), así como los errores de validación obtenidos."
   ]
  },
  {
   "cell_type": "code",
   "execution_count": null,
   "metadata": {},
   "outputs": [],
   "source": [
    "def compare_oob_error(maxDepth=100,minSamplesSplit=20,minSamplesLeaf=7,x=X_train,y=y_train):\n",
    "    OOBs_reg_bag=[]\n",
    "    Vals_reg_bag=[]\n",
    " \n",
    "    OOBs_reg_rdm=[]\n",
    "    Vals_reg_rdm=[]\n",
    "    \n",
    "    nE=np.arange(10,200,5)\n",
    "    print(\"entrenando y calculando\")\n",
    "    for nEstimators in nE:\n",
    "        bagging_reg=BaggingRegressor(base_estimator=Tree(max_depth=maxDepth,min_samples_split=minSamplesSplit,min_samples_leaf=minSamplesLeaf),n_estimators=nEstimators,n_jobs=-1,oob_score=True)\n",
    "        bagging_reg.fit(x,y)\n",
    "\n",
    "        random_reg=RandomForestRegressor(max_depth=maxDepth,min_samples_split=minSamplesSplit,min_samples_leaf=minSamplesLeaf,n_estimators=nEstimators,n_jobs=-1,oob_score=True)\n",
    "        random_reg.fit(x,y)\n",
    "        \n",
    "        \n",
    "        OOBs_reg_bag.append(1-bagging_reg.oob_score_)\n",
    "        Vals_reg_bag.append(1-bagging_reg.score(X_val,y_val))\n",
    "\n",
    "        OOBs_reg_rdm.append(1-random_reg.oob_score_)\n",
    "        Vals_reg_rdm.append(1-random_reg.score(X_val,y_val))\n",
    "    print(\"listo!\")\n",
    "        \n",
    "    plt.figure(figsize=(11,7))\n",
    "    plt.title(\"errores OOB's y errores de validacion en tecnicas de bootstrap segun n_estimators (arboles regularizados)\")\n",
    "    plt.ylabel(\"error\")\n",
    "    plt.xlabel(\"n_estimator\")\n",
    "    \n",
    "    plt.plot(nE,OOBs_reg_bag,label=\"error de OOB con bagging\")\n",
    "    plt.plot(nE,Vals_reg_bag,label=\"error de validacion con bagging\")\n",
    "\n",
    "    plt.plot(nE,OOBs_reg_rdm,label=\"error de OOB con randomforest\")\n",
    "    plt.plot(nE,Vals_reg_rdm,label=\"error de validacion con random forest\")\n",
    "\n",
    "    \n",
    "    plt.legend()\n",
    "    plt.show()   \n",
    "    \n",
    "    \n",
    "compare_oob_error()\n"
   ]
  },
  {
   "cell_type": "markdown",
   "metadata": {},
   "source": [
    "Cuando el valor n_estimator es suficientemente grande (mayor a 20), obserbamos que se comporta de manera similar a los errores de validación. Por lo tanto, podemos considerar al OOB error como métrica de generalización cuando n_estimator es lo sufientemente grande."
   ]
  },
  {
   "cell_type": "markdown",
   "metadata": {},
   "source": [
    "### h)\n",
    "Una de las partes más interesantes de los métodos de ensamblado es el cómo se combinan las predicciones hechas por todos los modelos entrenados. En bagging, se realiza un promedio entre todas las predicciones si es un caso de regresión, o se elige la clase más \"votada\" en una clasificación. En AdaBoost, se ponderan las predicciones de los modelos según los pesos de estos, los cuales dependen de su desempeño en clasificación.\n",
    "\n",
    "A continuación, se propone otra forma de combinar las predicciones:\n",
    "\n",
    "Primero, se ordenan los modelos según su desempeño (score). Se debe tener como hiperparámetro un número entre 0 y 1, el cual indicará la porción de modelos que se tomarán en cuenta y, usando solo esa porción, se promediarán las predicciones. Por ejemplo, si el hiperarámetro es igual a 0.6, se promediarán las predicciones hechas por el 60% de los modelos con mayor score."
   ]
  },
  {
   "cell_type": "code",
   "execution_count": null,
   "metadata": {},
   "outputs": [],
   "source": [
    "#portion=1 -> acepta todos los estimadores\n",
    "#portion=0\n",
    "def combine_predictions(predictions,estimators,portion):\n",
    "    if portion>1:\n",
    "        portion=1\n",
    "    elif portion<=0:\n",
    "        portion=0   \n",
    "    scores=[es.score(X_val,y_val) for es in estimators]\n",
    "    dat=list(zip(predictions,scores))\n",
    "    dat.sort(key=lambda x:x[1],reverse=True)#se ordenan\n",
    "    \n",
    "    num_ex=len(predictions[0])\n",
    "    num_preds=len(predictions)   \n",
    "    new_predictions=np.zeros(num_ex)\n",
    "    \n",
    "    for p in range(num_preds):\n",
    "        c=p+1\n",
    "        for ex in range(num_ex):\n",
    "            new_predictions[ex]+=dat[p][0][ex]\n",
    "            \n",
    "        if((p+1)/num_preds >= portion):#excede la porción\n",
    "            break\n",
    "        \n",
    "    #estimators.sort(key=lambda x:x.score(X_val,y_val))\n",
    "    #print([e.score(X_val,y_val) for e in estimators])\n",
    "    return list(new_predictions/c)\n",
    "\n",
    "\n",
    "model=BaggingRegressor(base_estimator=Tree(max_depth=100,min_samples_split=20,min_samples_leaf=7),n_estimators=1000,n_jobs=-1,oob_score=True)\n",
    "model.fit(X_train,y_train)\n",
    "list_estimators=model.estimators_\n",
    "list_predictions = [estimator.predict(X_val) for estimator in list_estimators]\n",
    "\n",
    "#def combine_predictions(predictions):\n",
    " #   predictions.sort(key=lambda x: x.score(X_val,y_val),reverse=False)"
   ]
  },
  {
   "cell_type": "code",
   "execution_count": null,
   "metadata": {
    "scrolled": true
   },
   "outputs": [],
   "source": [
    "old_predictions=model.predict(X_val)\n",
    "print(\"RMSE val (tradicionalmente)= \",RMSE(y_val,old_predictions))\n",
    "\n",
    "new_predictions = combine_predictions(list_predictions,list_estimators,0.6)\n",
    "print(\"RMSE val (con combine predictors)= \",RMSE(y_val, new_predictions))"
   ]
  },
  {
   "cell_type": "markdown",
   "metadata": {},
   "source": [
    "Usando el 60% de los mejores modelos a partir de un ensamblado bagging de 1000 arboles de desición regularizados, se obtiene un RMSE ligeramente menor (es decir, un mejor modelo)."
   ]
  },
  {
   "cell_type": "markdown",
   "metadata": {},
   "source": [
    "### i)\n",
    "Al tener una cantidad grande \"T\" de modelos en el ensamblado (por ejemplo, T>100), se puede crear un intervalo de \n",
    "confianza de una predicción usando las predicciones hechas por los modelos. Esto se puede realizar si se asumen a las predicciones como una distribución Normal, cuyo centro es la media muestral de las predicciones y cuya desviación estándar es la desviación estandar de las predicciones.\n",
    "\n",
    "A esto se le puede añadir un intervalo de confianza del 95%, es decir, si hacemos una predicción existe un 95% de probabilidades de que caiga en el intervalo. \n",
    "\n",
    "A continuación, se visualizan los promedios de las predicciones de validación hechas por los modelos del ensamblado del inciso anterior (en este caso, T=1000), junto con los intervalos de confianza establecidos."
   ]
  },
  {
   "cell_type": "code",
   "execution_count": null,
   "metadata": {},
   "outputs": [],
   "source": [
    "X_val_est = np.vstack(list_predictions).T #has shape=(N_test, n_estimator), with n_estimator>100\n",
    "from scipy.stats import norm\n",
    "interv_val = []\n",
    "for n in range(X_val.shape[0]):\n",
    "    low, up = norm.interval(0.95, loc=np.mean(X_val_est[n]), scale=np.std(X_val_est[n]))\n",
    "    interv_val.append([low,up])\n",
    "interv_val = np.asarray(interv_val)\n",
    "x = np.arange(X_val_est.shape[0])\n",
    "plt.figure(figsize=(8,5))\n",
    "plt.plot(x, np.mean(X_val_est, axis=1))\n",
    "plt.xlabel('ejemplo')\n",
    "plt.ylabel('prediccion')\n",
    "plt.fill_between(x, interv_val[:,0], interv_val[:,1], color='r', alpha=.55)\n",
    "plt.show()"
   ]
  },
  {
   "cell_type": "markdown",
   "metadata": {},
   "source": [
    "En el siguente widget, se puede analizar por cada ejemplo de validación la distribución de predicciones hechas por los ensamblados, junto con los intervalos de confianza y la porción de predicciones que encajan con los intervalos (que no debería ser mucho menor a 0.95)"
   ]
  },
  {
   "cell_type": "code",
   "execution_count": null,
   "metadata": {},
   "outputs": [],
   "source": [
    "import seaborn as sns\n",
    "from ipywidgets import interact, IntSlider\n",
    "import ipywidgets as widgets\n",
    "\n",
    "def dist_results(n):\n",
    "    low,up=norm.interval(0.95, loc=np.mean(X_val_est[n]), scale=np.std(X_val_est[n]))\n",
    "    plt.figure(figsize=(8,5))\n",
    "    \n",
    "    portion=len(np.concatenate(np.where((X_val_est[n]>=low)&(X_val_est[n]<=up)),axis=0))/len(X_val_est[n])\n",
    "    print('porción de valores entre los límites:',portion)\n",
    "   \n",
    "    \n",
    "    \n",
    "    sns.distplot(X_val_est[n],kde=False,bins=50)\n",
    "    plt.axvline(low,0,100,color='m',label='limite inferior = {}'.format(low))\n",
    "    plt.axvline(up,0,100,color='r',label='limite superior = {}'.format(up))\n",
    "    plt.title('distribucion de predicciones en ejemplo {}, y limites de intervalo de confianza (95%) segun norma.'.format(n))\n",
    "    plt.ylabel('frecuencia')\n",
    "    plt.xlabel('predicciones')\n",
    "    plt.legend()\n",
    "    plt.show()\n",
    "    \n",
    "interact(dist_results,n=IntSlider(min=0,max=len(X_val)-1,step=1,value=0))"
   ]
  },
  {
   "cell_type": "markdown",
   "metadata": {},
   "source": [
    "### j) Conclusión\n",
    "\n",
    "Basándonos nétamente en el RMSE de validación, parece ser que el mejor modelo de regresión con ensamblado corresponde al método bagging que usa el promedio del 60% de modelos con mayor score (o \"bagging modificado\"), usando 1000 estimadores. \n",
    "\n",
    "Así pues, las diferencias de RMSE's entre este método, bagging \"clásico\" y random forest no son tan grandes, aunque estos 3 modelos resultaron ser más efectivos que AdaBoost, quizás porque este último implica independencia entre los modelos desarrollados durante el entrenamiento. \n",
    "\n",
    "Hay que considerar también que aumentar el número de estimadores no necesariamente reduce el error. Es más, el regresor con bagging \"clásico\" de 1000 estimadores entrega un RMSE de validación mayor a bagging y random forest, con 100 estimadores cada uno.\n",
    "\n",
    "A continuación, se visualizan las predicciones hechas por bagging modificado, en el conjunto de validación:"
   ]
  },
  {
   "cell_type": "code",
   "execution_count": null,
   "metadata": {},
   "outputs": [],
   "source": [
    "plt.figure(figsize=(11,7))\n",
    "plt.plot(y_val, '.-' ,label=\"True values\")\n",
    "plt.plot(new_predictions, '.-' ,label=\"Pred values\")\n",
    "plt.show()\n",
    "\n"
   ]
  },
  {
   "cell_type": "markdown",
   "metadata": {},
   "source": [
    "# Sección 2: Detección de acoso en Twitter"
   ]
  },
  {
   "cell_type": "markdown",
   "metadata": {},
   "source": [
    "Hoy en día el internet ha generado una ola de nuevas dimensiones en las cuales la interacción social se ve perturbada, y así como cosas buenas traer, también trae las malas; el acoso y los tratos hirientes se mudaron para ser aplicados también por estos nuevos medios, haciéndolos aún más difíciles de combatir dado el anonimato y la poca fiscalización que se tiene en este campo. Sin embargo, las personas encargadas de redes sociales toman riendas en el asunto y se dan la facultad de poder negar acceso a diversas cuentas que presentan estos comportamientos tóxicos. Así es como surge la problemática presentada en esta sección, se solicitó obtener el veredicto final acerca de si un tweet es acoso o no. Adicionado a esto se presenta una problemática extra en los datos relacionado con el desbalance de estos, es decir, cuando se tienen muy pocos ejemplo sobre una clase, comparado con el resto de estas. "
   ]
  },
  {
   "cell_type": "code",
   "execution_count": 2,
   "metadata": {},
   "outputs": [],
   "source": [
    "#funcion que le quita todos los caracteres especiales a un string y retorna un numpy array con todas las palabras de esta oracion\n",
    "def nospace(array):\n",
    "    out_string = \"\"\n",
    "    for wordi in array:\n",
    "        out_string += re.sub(r'[\\W]', '', wordi) + \" \"#'outstring' es el string que no tiene caracteres especiales, sólo palabras\n",
    "    values2 = out_string.split() ##a este vector se le quitan los espacios\n",
    "    words = np.asarray(values2)\n",
    "    return words\n",
    "\n",
    "\n",
    "negative_words = [\n",
    "    'bitch','bitches','slut','sluts','whore','whores','shit','shits','kill','die','murder','rape','raped','violate',\n",
    "    'violated','nigga','niggaz','niggas','nigro','nigros','nigger','fuck','fucked','fucks','fucker','fuckers','fucking',\n",
    "    'fuckings','motherfucker','mdfr','mofo','cancer','ass','bitchass','ugly','dork','dumb','broke','yousuck','shitty',\n",
    "    'lame','dick','pussy','piss','bitchy','kinky','horny','hate','hateful','anger','destroy','demolish','fuckyou','fu',\n",
    "    'retard','weirdo','weird','freak','poor','stupid','alone','suicide','yourself','crazy','shame','shaming', 'dirty',\n",
    "    'feminazi','dork','hoes','ho','mfs','cringe','cringy','ashamed','bastard','beaner','chicano','cunt','asshole','dickhead',\n",
    "    'assface','slave','bitchass','cum','porn','penis','vagina','haters'\n",
    "]\n"
   ]
  },
  {
   "cell_type": "code",
   "execution_count": 3,
   "metadata": {},
   "outputs": [],
   "source": [
    "import pandas as pd\n",
    "import numpy as np\n",
    "import re\n",
    "from numpy import linalg as LA\n",
    "from sklearn.model_selection import train_test_split\n",
    "import matplotlib.pyplot as plt\n",
    "import seaborn as sns\n",
    "\n",
    "#se cargan las palabras vectorizadas\n",
    "embeddings_dict = {}\n",
    "with open(\"glove.6B.50d.txt\", 'r',encoding='utf-8') as f:\n",
    "    for line in f:\n",
    "        values = line.split()\n",
    "        word = values[0]\n",
    "        vector = np.asarray(values[1:], \"float32\")\n",
    "        embeddings_dict[word] = vector\n",
    "\n",
    "#se carga la data de entrenamiento\n",
    "data = pd.read_csv(\"./train_data.csv\")\n",
    "data_test = pd.read_csv(\"./test_input.csv\")"
   ]
  },
  {
   "cell_type": "markdown",
   "metadata": {},
   "source": [
    "El dataset está compuesto por el contenido del tweet, un id respectivo para cada uno y datos binarios acerca si un tweet es considerado acoso o no, si este es de índole indirecto, físico o sexual. \n",
    "\n",
    "Fue necesario crear parámetros que nos proporcionen más información acerca de cada tweet. Los parámetros creados fueron: \"negative_words\", que consiste en un contador de veces que palabras negativas aparecen dentro de un tweet. Todas las palabras del tweet son leídas y se pregunta si acaso alguna de estas se encuentra en una lista con muchas palabras ocupadas para denigrar, herir o que tienen que ver con aspectos que dañan la integridad humana, al aparecer una de estas, el contador aumenta en una unidad; \"norm_tweet\", que corresponde a la norma de un vector que ubica a todo el tweet dentro de un espacio vectorial, este vector es fabricado a partir de la suma de los vectores que ubican en el mismo espacio vectorial a las palabras que lo componen; \"norm_negative\", que consiste en una medida similar a la anterior, solo que este vector incluye solo palabras clasificadas como negativas, consideradas así según la misma lista que da origen al parámetro \"negative_words\". La ciencia que tienen los últimos dos parámetros consiste en dar una especie de noción general acerca de la oración contenida en el tweet, ya que \"negative_words\" no entrega una noción muy repreentativa de la intención de un tweet ya que muchas veces estas palabras son usadas sin hacer daño, es por esto que todos estos parámetros en conjunto podrían entregar una buena noción que permita diferenciar si acaso existe acoso o no. "
   ]
  },
  {
   "cell_type": "code",
   "execution_count": 4,
   "metadata": {},
   "outputs": [],
   "source": [
    "tweets = data['tweet_content']\n",
    "tweets_2 = data_test['tweet_content']\n",
    "wordvec = np.empty(data.shape[0])\n",
    "wordnegvec = np.empty(data.shape[0])\n",
    "negs = np.zeros(data.shape[0],dtype='int') \n",
    "\n",
    "counter = 0\n",
    "for tweet in tweets:\n",
    "    words = tweet.split()\n",
    "    vecword = np.zeros((50,), dtype='float32')\n",
    "    negvec = np.zeros((50,), dtype='float32')\n",
    "    neg_counter = 0\n",
    "    for word in words:\n",
    "        if word in negative_words:\n",
    "            neg_counter=neg_counter+1\n",
    "            try:\n",
    "                negvec = embeddings_dict[word] + negvec\n",
    "            except KeyError:\n",
    "                null=np.zeros((50,), dtype='float32')\n",
    "                negvec = null + negvec\n",
    "        try:\n",
    "            vecword = embeddings_dict[word] + vecword\n",
    "        except KeyError:\n",
    "            null=np.zeros((50,), dtype='float32')\n",
    "            vecword = null + vecword\n",
    "    norm_tweet=LA.norm(vecword)\n",
    "    norm_neg_word=LA.norm(negvec)\n",
    "    wordvec[counter]=norm_tweet\n",
    "    wordnegvec[counter]=norm_neg_word\n",
    "    negs[counter]=neg_counter\n",
    "    counter=counter+1\n",
    "\n",
    "wordvec_test = np.empty(data_test.shape[0])\n",
    "wordnegvec_test = np.empty(data_test.shape[0])\n",
    "negs_test = np.zeros(data_test.shape[0],dtype='int') \n",
    "counter=0\n",
    "for tweet in tweets_2:\n",
    "    words = tweet.split()\n",
    "    vecword = np.zeros((50,), dtype='float32')\n",
    "    negvec = np.zeros((50,), dtype='float32')\n",
    "    neg_counter = 0\n",
    "    for word in words:\n",
    "        if word.lower() in negative_words:\n",
    "            neg_counter=neg_counter+1\n",
    "            try:\n",
    "                negvec = embeddings_dict[word.lower()] + negvec\n",
    "            except KeyError:\n",
    "                null=np.zeros((50,), dtype='float32')\n",
    "                negvec = null + negvec\n",
    "        try:\n",
    "            vecword = embeddings_dict[word.lower()] + vecword\n",
    "        except KeyError:\n",
    "            null=np.zeros((50,), dtype='float32')\n",
    "            vecword = null + vecword\n",
    "    norm_tweet=LA.norm(vecword)\n",
    "    norm_neg_word=LA.norm(negvec)\n",
    "    wordvec_test[counter]=norm_tweet\n",
    "    wordnegvec_test[counter]=norm_neg_word\n",
    "    negs_test[counter]=neg_counter\n",
    "    counter=counter+1\n"
   ]
  },
  {
   "cell_type": "code",
   "execution_count": 5,
   "metadata": {},
   "outputs": [],
   "source": [
    "data['norm_tweet']=wordvec\n",
    "data['norm_negative']=wordnegvec\n",
    "data['negative_words']=negs\n",
    "data_test['norm_tweet']=wordvec_test\n",
    "data_test['norm_negative']=wordnegvec_test\n",
    "data_test['negative_words']=negs_test"
   ]
  },
  {
   "cell_type": "code",
   "execution_count": 6,
   "metadata": {},
   "outputs": [
    {
     "name": "stdout",
     "output_type": "stream",
     "text": [
      "Cantidad de Tweets de acoso: 549, equivalente al 0.09626512361914781de los datos\n",
      "Cantidad de Tweets sin acoso: 5154, equivalente al 0.9037348763808521de los datos\n",
      "Cantidad de Tweets en el conjuntos de prueba: 1785\n"
     ]
    }
   ],
   "source": [
    "fq=[]\n",
    "porcentage=[]\n",
    "for i in range(2):\n",
    "    fq.append(data.loc[data['harassment']==i].shape[0])\n",
    "for i in range(2):\n",
    "    porcentage.append(fq[i]/(fq[0]+fq[1]))\n",
    "\n",
    "print('Cantidad de Tweets de acoso: '+str(fq[1])+', equivalente al '+str(porcentage[1])+'de los datos')\n",
    "print('Cantidad de Tweets sin acoso: '+str(fq[0])+', equivalente al '+str(porcentage[0])+'de los datos')\n",
    "print('Cantidad de Tweets en el conjuntos de prueba: '+str(data_test.shape[0]))"
   ]
  },
  {
   "cell_type": "markdown",
   "metadata": {},
   "source": [
    "## Unsampled Data\n",
    "\n",
    "En este análisis de los datos fue que se confirmó la baja existencia de ejemplos correspondientes a un tweets acosadores.\n",
    "\n",
    "Aún así se prosiguió con la implementación de un modelo de predicción, sin antes manipular los datos.\n",
    "\n",
    "Se eligieron ensamblados de árboles para poder resolver el problema, uno hecho mediante la técnica de bagging y otro implementado directamente como random forest, donde ambos realizan un muestreo de los datos, pero diferenciandose en que random forest, además, remuestrea las caracterpisticas, dando a cada learner usado una perspectiva diferente.\n",
    "\n",
    "Cabe recalcar que ambos modelos corresponden al tipo de clasificador debido a que buscamos obtener una etiqueta y no un valor continuo."
   ]
  },
  {
   "cell_type": "code",
   "execution_count": 7,
   "metadata": {},
   "outputs": [],
   "source": [
    "from sklearn.ensemble import RandomForestClassifier\n",
    "from sklearn.ensemble import BaggingClassifier\n",
    "from sklearn.tree import DecisionTreeClassifier\n",
    "from sklearn.metrics import accuracy_score, f1_score, confusion_matrix, recall_score\n",
    "\n",
    "train_acc_rf = []\n",
    "train_recall_rf = []\n",
    "train_f1_rf = []\n",
    "train_acc_bagg = []\n",
    "train_recall_bagg = []\n",
    "train_f1_bagg = []\n",
    "MAX_MODELS = 30\n",
    "\n",
    "x_train = data[['norm_tweet','negative_words','norm_negative']].copy()\n",
    "y_train = data[['harassment']].copy()\n",
    "x_test = data_test[['norm_tweet','negative_words','norm_negative']].copy()\n",
    "for size in range(1,MAX_MODELS):\n",
    "\n",
    "    base_learner = DecisionTreeClassifier()\n",
    "    bagging_model = BaggingClassifier(base_estimator = base_learner, n_estimators=size)\n",
    "    bagging_model.fit(x_train, y_train.values.ravel())\n",
    "\n",
    "    rf_model = RandomForestClassifier(n_estimators=size)#max_depth=10\n",
    "    rf_model.fit(x_train, y_train.values.ravel())\n",
    "\n",
    "    y_pred_bagging = bagging_model.predict(x_test)\n",
    "    y_pred_rf = rf_model.predict(x_test)\n",
    "    y_pred_rf_train = rf_model.predict(x_train)\n",
    "    y_pred_bagging_train = bagging_model.predict(x_train)\n",
    "    train_acc_bagg.append(bagging_model.score(x_train, y_train.values.ravel()))\n",
    "    train_acc_rf.append(rf_model.score(x_train, y_train.values.ravel()))\n",
    "    train_recall_bagg.append(recall_score(y_train, y_pred_bagging_train))\n",
    "    train_recall_rf.append(recall_score(y_train, y_pred_rf_train))\n",
    "    train_f1_bagg.append(f1_score(y_train, y_pred_bagging_train))\n",
    "    train_f1_rf.append(f1_score(y_train, y_pred_rf_train))\n",
    "    "
   ]
  },
  {
   "cell_type": "code",
   "execution_count": 8,
   "metadata": {},
   "outputs": [
    {
     "name": "stdout",
     "output_type": "stream",
     "text": [
      "Mínimo valor de accuracy para BaggingTree: 0.952656496580747\n",
      "Mínimo valor de accuracy para RandomForest: 0.9554620375241101\n",
      "Máximo valor de accuracy para BaggingTree: 0.9936875328774329\n",
      "Máximo valor de accuracy para RandomForest: 0.9942135718043135\n"
     ]
    },
    {
     "data": {
      "image/png": "[encoded data removed]",
      "text/plain": [
       "<Figure size 504x360 with 1 Axes>"
      ]
     },
     "metadata": {},
     "output_type": "display_data"
    }
   ],
   "source": [
    "f = plt.figure(figsize=(7,5))\n",
    "ax = f.add_axes([0.075, 0.08, 0.9, 0.82])\n",
    "n_predictors = [size for size in range(1,MAX_MODELS)]\n",
    "ax.plot(n_predictors,train_acc_bagg,'--',color='g',label='Bagging Train')\n",
    "ax.plot(n_predictors,train_acc_rf,color='g',label='RF Train')\n",
    "\n",
    "ax.set_xlabel(\"numero de predictores\")\n",
    "ax.set_ylabel(\"acccuracy\")\n",
    "ax.set_title(\"Random Forest for Harass Tweets\")\n",
    "\n",
    "leg = f.legend(loc='center left', bbox_to_anchor=(1.05, 0.5), fontsize=12, frameon=False)\n",
    "print('Mínimo valor de accuracy para BaggingTree: '+str(min(train_acc_bagg)))\n",
    "print('Mínimo valor de accuracy para RandomForest: '+str(min(train_acc_rf)))\n",
    "print('Máximo valor de accuracy para BaggingTree: '+str(max(train_acc_bagg)))\n",
    "print('Máximo valor de accuracy para RandomForest: '+str(max(train_acc_rf)))"
   ]
  },
  {
   "cell_type": "code",
   "execution_count": 9,
   "metadata": {},
   "outputs": [
    {
     "name": "stdout",
     "output_type": "stream",
     "text": [
      "Mínimo valor de accuracy para BaggingTree: 0.5664845173041895\n",
      "Mínimo valor de accuracy para RandomForest: 0.6010928961748634\n",
      "Máximo valor de accuracy para BaggingTree: 0.9544626593806922\n",
      "Máximo valor de accuracy para RandomForest: 0.9544626593806922\n"
     ]
    },
    {
     "data": {
      "image/png": "[encoded data removed]",
      "text/plain": [
       "<Figure size 504x360 with 1 Axes>"
      ]
     },
     "metadata": {},
     "output_type": "display_data"
    }
   ],
   "source": [
    "f = plt.figure(figsize=(7,5))\n",
    "ax2 = f.add_axes([0.080, 0.08, 0.9, 0.82])\n",
    "ax2.plot(n_predictors,train_recall_bagg,'--',color='g',label='Bagging Train')\n",
    "ax2.plot(n_predictors,train_recall_rf,color='g',label='RF Train')\n",
    "\n",
    "ax2.set_xlabel(\"numero de predictores\")\n",
    "ax2.set_ylabel(\"recall\")\n",
    "ax2.set_title(\"Random Forest for Harass Tweets\")\n",
    "\n",
    "leg = f.legend(loc='center left', bbox_to_anchor=(1.05, 0.5), fontsize=12, frameon=False)\n",
    "print('Mínimo valor de accuracy para BaggingTree: '+str(min(train_recall_bagg)))\n",
    "print('Mínimo valor de accuracy para RandomForest: '+str(min(train_recall_rf)))\n",
    "print('Máximo valor de accuracy para BaggingTree: '+str(max(train_recall_bagg)))\n",
    "print('Máximo valor de accuracy para RandomForest: '+str(max(train_recall_rf)))\n"
   ]
  },
  {
   "cell_type": "code",
   "execution_count": 10,
   "metadata": {},
   "outputs": [
    {
     "name": "stdout",
     "output_type": "stream",
     "text": [
      "Mínimo valor de accuracy para BaggingTree: 0.6973094170403588\n",
      "Mínimo valor de accuracy para RandomForest: 0.7221006564551423\n",
      "Máximo valor de accuracy para BaggingTree: 0.966789667896679\n",
      "Máximo valor de accuracy para RandomForest: 0.969416126042632\n"
     ]
    },
    {
     "data": {
      "image/png": "[encoded data removed]",
      "text/plain": [
       "<Figure size 504x360 with 1 Axes>"
      ]
     },
     "metadata": {},
     "output_type": "display_data"
    }
   ],
   "source": [
    "f = plt.figure(figsize=(7,5))\n",
    "ax3 = f.add_axes([0.090, 0.08, 0.9, 0.82])\n",
    "ax3.plot(n_predictors,train_f1_bagg,'--',color='g',label='Bagging Train')\n",
    "ax3.plot(n_predictors,train_f1_rf,color='g',label='RF Train')\n",
    "\n",
    "ax3.set_xlabel(\"numero de predictores\")\n",
    "ax3.set_ylabel(\"f1 score\")\n",
    "ax3.set_title(\"Random Forest for Harass Tweets\")\n",
    "\n",
    "leg = f.legend(loc='center left', bbox_to_anchor=(1.05, 0.5), fontsize=12, frameon=False)\n",
    "print('Mínimo valor de accuracy para BaggingTree: '+str(min(train_f1_bagg)))\n",
    "print('Mínimo valor de accuracy para RandomForest: '+str(min(train_f1_rf)))\n",
    "print('Máximo valor de accuracy para BaggingTree: '+str(max(train_f1_bagg)))\n",
    "print('Máximo valor de accuracy para RandomForest: '+str(max(train_f1_rf)))"
   ]
  },
  {
   "cell_type": "markdown",
   "metadata": {},
   "source": [
    "Como es de costumbre, la accuracy nos entrega un buen resultado principalmente a que, como son tan pocos los casos en que existe acoso, la mala clasificación no genera mayor efecto negativo en el resultado. \n",
    "\n",
    "Se usaron otras métricas como es el \"recall\" que nos indica cuán bien un modelo es capaz de detectar una clase y la \"f1\" que es un promedio entre el recall y otra métrica llamada \"precision\"(cuando confiable es el resultado cuando un modelo responde que un punto pertenece a una clase). Con esta se puede evidenciar un menor rendiemiento que el entregado por el accuracy, así evidenciando los problemas que el desbalance genera en los learners.\n",
    "\n",
    "Sin embargo al aumentar la cantidad de miembros en el comité de learners se puede ver una gran rendimiento y mejora de parte de ambos modelos."
   ]
  },
  {
   "cell_type": "markdown",
   "metadata": {},
   "source": [
    "## Resampled Data"
   ]
  },
  {
   "cell_type": "markdown",
   "metadata": {},
   "source": [
    "Ahora, a forma de combatir el desbalance, fue que se hizo práctica de una técnica de resampleo siendo esta la creación de datos sintéticos. Gracias a SMOTE, una herramienta proporcionada por una librería de Python, y su algoritmo de vecinos cercanos se puedo generar nueva data útil para entrenar al modelo."
   ]
  },
  {
   "cell_type": "code",
   "execution_count": 11,
   "metadata": {},
   "outputs": [
    {
     "name": "stdout",
     "output_type": "stream",
     "text": [
      "[0 0 0 ... 1 1 1]\n",
      "Cantidad de nuevos ejemplos: 5154\n"
     ]
    }
   ],
   "source": [
    "from imblearn.over_sampling import SMOTE\n",
    "\n",
    "sm = SMOTE(random_state=27)\n",
    "X_train, Y_train = sm.fit_sample(x_train, y_train.values.ravel())\n",
    "y_counter=0\n",
    "print(Y_train)\n",
    "for i in Y_train:\n",
    "    if i == 1:\n",
    "        y_counter=y_counter+1\n",
    "print('Cantidad de nuevos ejemplos: '+str(y_counter))\n",
    "train_acc_srf = []\n",
    "train_recall_srf = []\n",
    "train_f1_srf = []\n",
    "train_acc_sbagg = []\n",
    "train_recall_sbagg = []\n",
    "train_f1_sbagg = []\n",
    "\n",
    "for size in range(1,MAX_MODELS):\n",
    "\n",
    "    base_learner = DecisionTreeClassifier()\n",
    "    smote_bagg = BaggingClassifier(base_estimator = base_learner, n_estimators=size)\n",
    "    smote_rf = RandomForestClassifier(n_estimators=size)\n",
    "    smote_bagg.fit(X_train, Y_train)\n",
    "    smote_rf.fit(X_train, Y_train)\n",
    "\n",
    "    smote_rf_pred = smote_rf.predict(x_test)\n",
    "    smote_bagg_pred = smote_bagg.predict(x_test)\n",
    "    \n",
    "    y_pred_srf_train = smote_rf.predict(X_train)\n",
    "    y_pred_sbagging_train = smote_bagg.predict(X_train)\n",
    "    \n",
    "    train_acc_sbagg.append(smote_bagg.score(X_train, Y_train))\n",
    "    train_acc_srf.append(smote_rf.score(X_train, Y_train))\n",
    "    \n",
    "    train_recall_sbagg.append(recall_score(Y_train, y_pred_sbagging_train))\n",
    "    train_recall_srf.append(recall_score(Y_train, y_pred_srf_train))\n",
    "    \n",
    "    train_f1_sbagg.append(f1_score(Y_train, y_pred_sbagging_train))\n",
    "    train_f1_srf.append(f1_score(Y_train, y_pred_srf_train))"
   ]
  },
  {
   "cell_type": "code",
   "execution_count": 12,
   "metadata": {},
   "outputs": [
    {
     "name": "stdout",
     "output_type": "stream",
     "text": [
      "Mínimo valor de accuracy para BaggingTree: 0.9098758246022507\n",
      "Mínimo valor de accuracy para RandomForest: 0.9059953434225844\n",
      "Máximo valor de accuracy para BaggingTree: 0.9934031819945673\n",
      "Máximo valor de accuracy para RandomForest: 0.9932091579355841\n"
     ]
    },
    {
     "data": {
      "image/png": "[encoded data removed]",
      "text/plain": [
       "<Figure size 504x360 with 1 Axes>"
      ]
     },
     "metadata": {},
     "output_type": "display_data"
    }
   ],
   "source": [
    "f = plt.figure(figsize=(7,5))\n",
    "ax = f.add_axes([0.075, 0.08, 0.9, 0.82])\n",
    "n_predictors = [size for size in range(1,MAX_MODELS)]\n",
    "ax.plot(n_predictors,train_acc_sbagg,'--',color='g',label='Bagging Train')\n",
    "ax.plot(n_predictors,train_acc_srf,color='g',label='RF Train')\n",
    "\n",
    "ax.set_xlabel(\"numero de predictores\")\n",
    "ax.set_ylabel(\"acccuracy\")\n",
    "ax.set_title(\"Random Forest for Harass Tweets\")\n",
    "\n",
    "leg = f.legend(loc='center left', bbox_to_anchor=(1.05, 0.5), fontsize=12, frameon=False)\n",
    "print('Mínimo valor de accuracy para BaggingTree: '+str(min(train_acc_sbagg)))\n",
    "print('Mínimo valor de accuracy para RandomForest: '+str(min(train_acc_srf)))\n",
    "print('Máximo valor de accuracy para BaggingTree: '+str(max(train_acc_sbagg)))\n",
    "print('Máximo valor de accuracy para RandomForest: '+str(max(train_acc_srf)))"
   ]
  },
  {
   "cell_type": "code",
   "execution_count": 13,
   "metadata": {},
   "outputs": [
    {
     "name": "stdout",
     "output_type": "stream",
     "text": [
      "Mínimo valor de accuracy para BaggingTree: 0.8443927046953822\n",
      "Mínimo valor de accuracy para RandomForest: 0.8445867287543656\n",
      "Máximo valor de recall para BaggingTree: 0.9930151338766007\n",
      "Máximo valor de recall para RandomForest: 0.9930151338766007\n"
     ]
    },
    {
     "data": {
      "image/png": "[encoded data removed]",
      "text/plain": [
       "<Figure size 504x360 with 1 Axes>"
      ]
     },
     "metadata": {},
     "output_type": "display_data"
    }
   ],
   "source": [
    "f = plt.figure(figsize=(7,5))\n",
    "ax2 = f.add_axes([0.080, 0.08, 0.9, 0.82])\n",
    "ax2.plot(n_predictors,train_recall_sbagg,'--',color='g',label='Bagging Train')\n",
    "ax2.plot(n_predictors,train_recall_srf,color='g',label='RF Train')\n",
    "\n",
    "ax2.set_xlabel(\"numero de predictores\")\n",
    "ax2.set_ylabel(\"recall\")\n",
    "ax2.set_title(\"Random Forest for Harass Tweets\")\n",
    "\n",
    "leg = f.legend(loc='center left', bbox_to_anchor=(1.05, 0.5), fontsize=12, frameon=False)\n",
    "print('Mínimo valor de accuracy para BaggingTree: '+str(min(train_recall_sbagg)))\n",
    "print('Mínimo valor de accuracy para RandomForest: '+str(min(train_recall_srf)))\n",
    "print('Máximo valor de recall para BaggingTree: '+str(max(train_recall_sbagg)))\n",
    "print('Máximo valor de recall para RandomForest: '+str(max(train_recall_srf)))"
   ]
  },
  {
   "cell_type": "code",
   "execution_count": 14,
   "metadata": {},
   "outputs": [
    {
     "name": "stdout",
     "output_type": "stream",
     "text": [
      "Mínimo valor de accuracy para BaggingTree: 0.9049698482012892\n",
      "Mínimo valor de accuracy para RandomForest: 0.9052137337376504\n",
      "Máximo valor de F1 para BaggingTree: 0.9934006211180124\n",
      "Máximo valor de F1 para RandomForest: 0.9932078400931497\n"
     ]
    },
    {
     "data": {
      "image/png": "[encoded data removed]",
      "text/plain": [
       "<Figure size 504x360 with 1 Axes>"
      ]
     },
     "metadata": {},
     "output_type": "display_data"
    }
   ],
   "source": [
    "f = plt.figure(figsize=(7,5))\n",
    "ax3 = f.add_axes([0.090, 0.08, 0.9, 0.82])\n",
    "ax3.plot(n_predictors,train_f1_sbagg,'--',color='g',label='Bagging Train')\n",
    "ax3.plot(n_predictors,train_f1_srf,color='g',label='RF Train')\n",
    "\n",
    "ax3.set_xlabel(\"numero de predictores\")\n",
    "ax3.set_ylabel(\"f1 score\")\n",
    "ax3.set_title(\"Random Forest for Harass Tweets\")\n",
    "\n",
    "leg = f.legend(loc='center left', bbox_to_anchor=(1.05, 0.5), fontsize=12, frameon=False)\n",
    "print('Mínimo valor de accuracy para BaggingTree: '+str(min(train_f1_sbagg)))\n",
    "print('Mínimo valor de accuracy para RandomForest: '+str(min(train_f1_srf)))\n",
    "print('Máximo valor de F1 para BaggingTree: '+str(max(train_f1_sbagg)))\n",
    "print('Máximo valor de F1 para RandomForest: '+str(max(train_f1_srf)))"
   ]
  },
  {
   "cell_type": "markdown",
   "metadata": {},
   "source": [
    "Con la data resampleada se puede ver una clara mejora para ambos modelos, teniendo mejor rendimiento en el comienzo y a medida que aumenta el comite, al igual que en lo modelos pasados este aumenta aún más, pero ambos terminando teniendo una capacidad de predicción similar cuando el numero de miembros es grande confirmando de este modo el argumento pricipal que ocupan los métodos ensamblados"
   ]
  },
  {
   "cell_type": "code",
   "execution_count": 15,
   "metadata": {},
   "outputs": [],
   "source": [
    "df_aux = pd.DataFrame()\n",
    "df_aux[\"id\"] = np.arange(1, 1+smote_rf_pred.shape[0])\n",
    "df_aux[\"harassment\"] = smote_rf_pred\n",
    "df_aux.to_csv(\"test_estimation.csv\", index=False)"
   ]
  },
  {
   "cell_type": "code",
   "execution_count": 16,
   "metadata": {},
   "outputs": [
    {
     "data": {
      "text/html": [
       "<div>\n",
       "<style scoped>\n",
       "    .dataframe tbody tr th:only-of-type {\n",
       "        vertical-align: middle;\n",
       "    }\n",
       "\n",
       "    .dataframe tbody tr th {\n",
       "        vertical-align: top;\n",
       "    }\n",
       "\n",
       "    .dataframe thead th {\n",
       "        text-align: right;\n",
       "    }\n",
       "</style>\n",
       "<table border=\"1\" class=\"dataframe\">\n",
       "  <thead>\n",
       "    <tr style=\"text-align: right;\">\n",
       "      <th></th>\n",
       "      <th>id</th>\n",
       "      <th>harassment</th>\n",
       "    </tr>\n",
       "  </thead>\n",
       "  <tbody>\n",
       "    <tr>\n",
       "      <th>0</th>\n",
       "      <td>1</td>\n",
       "      <td>0</td>\n",
       "    </tr>\n",
       "    <tr>\n",
       "      <th>1</th>\n",
       "      <td>2</td>\n",
       "      <td>0</td>\n",
       "    </tr>\n",
       "    <tr>\n",
       "      <th>2</th>\n",
       "      <td>3</td>\n",
       "      <td>0</td>\n",
       "    </tr>\n",
       "    <tr>\n",
       "      <th>3</th>\n",
       "      <td>4</td>\n",
       "      <td>1</td>\n",
       "    </tr>\n",
       "    <tr>\n",
       "      <th>4</th>\n",
       "      <td>5</td>\n",
       "      <td>0</td>\n",
       "    </tr>\n",
       "    <tr>\n",
       "      <th>5</th>\n",
       "      <td>6</td>\n",
       "      <td>0</td>\n",
       "    </tr>\n",
       "    <tr>\n",
       "      <th>6</th>\n",
       "      <td>7</td>\n",
       "      <td>1</td>\n",
       "    </tr>\n",
       "    <tr>\n",
       "      <th>7</th>\n",
       "      <td>8</td>\n",
       "      <td>0</td>\n",
       "    </tr>\n",
       "    <tr>\n",
       "      <th>8</th>\n",
       "      <td>9</td>\n",
       "      <td>0</td>\n",
       "    </tr>\n",
       "    <tr>\n",
       "      <th>9</th>\n",
       "      <td>10</td>\n",
       "      <td>0</td>\n",
       "    </tr>\n",
       "    <tr>\n",
       "      <th>10</th>\n",
       "      <td>11</td>\n",
       "      <td>1</td>\n",
       "    </tr>\n",
       "    <tr>\n",
       "      <th>11</th>\n",
       "      <td>12</td>\n",
       "      <td>1</td>\n",
       "    </tr>\n",
       "    <tr>\n",
       "      <th>12</th>\n",
       "      <td>13</td>\n",
       "      <td>1</td>\n",
       "    </tr>\n",
       "    <tr>\n",
       "      <th>13</th>\n",
       "      <td>14</td>\n",
       "      <td>1</td>\n",
       "    </tr>\n",
       "    <tr>\n",
       "      <th>14</th>\n",
       "      <td>15</td>\n",
       "      <td>1</td>\n",
       "    </tr>\n",
       "    <tr>\n",
       "      <th>15</th>\n",
       "      <td>16</td>\n",
       "      <td>0</td>\n",
       "    </tr>\n",
       "    <tr>\n",
       "      <th>16</th>\n",
       "      <td>17</td>\n",
       "      <td>0</td>\n",
       "    </tr>\n",
       "    <tr>\n",
       "      <th>17</th>\n",
       "      <td>18</td>\n",
       "      <td>0</td>\n",
       "    </tr>\n",
       "    <tr>\n",
       "      <th>18</th>\n",
       "      <td>19</td>\n",
       "      <td>0</td>\n",
       "    </tr>\n",
       "    <tr>\n",
       "      <th>19</th>\n",
       "      <td>20</td>\n",
       "      <td>1</td>\n",
       "    </tr>\n",
       "    <tr>\n",
       "      <th>20</th>\n",
       "      <td>21</td>\n",
       "      <td>0</td>\n",
       "    </tr>\n",
       "    <tr>\n",
       "      <th>21</th>\n",
       "      <td>22</td>\n",
       "      <td>1</td>\n",
       "    </tr>\n",
       "    <tr>\n",
       "      <th>22</th>\n",
       "      <td>23</td>\n",
       "      <td>0</td>\n",
       "    </tr>\n",
       "    <tr>\n",
       "      <th>23</th>\n",
       "      <td>24</td>\n",
       "      <td>0</td>\n",
       "    </tr>\n",
       "    <tr>\n",
       "      <th>24</th>\n",
       "      <td>25</td>\n",
       "      <td>0</td>\n",
       "    </tr>\n",
       "    <tr>\n",
       "      <th>25</th>\n",
       "      <td>26</td>\n",
       "      <td>0</td>\n",
       "    </tr>\n",
       "    <tr>\n",
       "      <th>26</th>\n",
       "      <td>27</td>\n",
       "      <td>1</td>\n",
       "    </tr>\n",
       "    <tr>\n",
       "      <th>27</th>\n",
       "      <td>28</td>\n",
       "      <td>0</td>\n",
       "    </tr>\n",
       "    <tr>\n",
       "      <th>28</th>\n",
       "      <td>29</td>\n",
       "      <td>1</td>\n",
       "    </tr>\n",
       "    <tr>\n",
       "      <th>29</th>\n",
       "      <td>30</td>\n",
       "      <td>0</td>\n",
       "    </tr>\n",
       "    <tr>\n",
       "      <th>...</th>\n",
       "      <td>...</td>\n",
       "      <td>...</td>\n",
       "    </tr>\n",
       "    <tr>\n",
       "      <th>1755</th>\n",
       "      <td>1756</td>\n",
       "      <td>0</td>\n",
       "    </tr>\n",
       "    <tr>\n",
       "      <th>1756</th>\n",
       "      <td>1757</td>\n",
       "      <td>1</td>\n",
       "    </tr>\n",
       "    <tr>\n",
       "      <th>1757</th>\n",
       "      <td>1758</td>\n",
       "      <td>0</td>\n",
       "    </tr>\n",
       "    <tr>\n",
       "      <th>1758</th>\n",
       "      <td>1759</td>\n",
       "      <td>1</td>\n",
       "    </tr>\n",
       "    <tr>\n",
       "      <th>1759</th>\n",
       "      <td>1760</td>\n",
       "      <td>0</td>\n",
       "    </tr>\n",
       "    <tr>\n",
       "      <th>1760</th>\n",
       "      <td>1761</td>\n",
       "      <td>1</td>\n",
       "    </tr>\n",
       "    <tr>\n",
       "      <th>1761</th>\n",
       "      <td>1762</td>\n",
       "      <td>0</td>\n",
       "    </tr>\n",
       "    <tr>\n",
       "      <th>1762</th>\n",
       "      <td>1763</td>\n",
       "      <td>0</td>\n",
       "    </tr>\n",
       "    <tr>\n",
       "      <th>1763</th>\n",
       "      <td>1764</td>\n",
       "      <td>0</td>\n",
       "    </tr>\n",
       "    <tr>\n",
       "      <th>1764</th>\n",
       "      <td>1765</td>\n",
       "      <td>0</td>\n",
       "    </tr>\n",
       "    <tr>\n",
       "      <th>1765</th>\n",
       "      <td>1766</td>\n",
       "      <td>0</td>\n",
       "    </tr>\n",
       "    <tr>\n",
       "      <th>1766</th>\n",
       "      <td>1767</td>\n",
       "      <td>1</td>\n",
       "    </tr>\n",
       "    <tr>\n",
       "      <th>1767</th>\n",
       "      <td>1768</td>\n",
       "      <td>1</td>\n",
       "    </tr>\n",
       "    <tr>\n",
       "      <th>1768</th>\n",
       "      <td>1769</td>\n",
       "      <td>1</td>\n",
       "    </tr>\n",
       "    <tr>\n",
       "      <th>1769</th>\n",
       "      <td>1770</td>\n",
       "      <td>0</td>\n",
       "    </tr>\n",
       "    <tr>\n",
       "      <th>1770</th>\n",
       "      <td>1771</td>\n",
       "      <td>1</td>\n",
       "    </tr>\n",
       "    <tr>\n",
       "      <th>1771</th>\n",
       "      <td>1772</td>\n",
       "      <td>0</td>\n",
       "    </tr>\n",
       "    <tr>\n",
       "      <th>1772</th>\n",
       "      <td>1773</td>\n",
       "      <td>0</td>\n",
       "    </tr>\n",
       "    <tr>\n",
       "      <th>1773</th>\n",
       "      <td>1774</td>\n",
       "      <td>0</td>\n",
       "    </tr>\n",
       "    <tr>\n",
       "      <th>1774</th>\n",
       "      <td>1775</td>\n",
       "      <td>0</td>\n",
       "    </tr>\n",
       "    <tr>\n",
       "      <th>1775</th>\n",
       "      <td>1776</td>\n",
       "      <td>0</td>\n",
       "    </tr>\n",
       "    <tr>\n",
       "      <th>1776</th>\n",
       "      <td>1777</td>\n",
       "      <td>0</td>\n",
       "    </tr>\n",
       "    <tr>\n",
       "      <th>1777</th>\n",
       "      <td>1778</td>\n",
       "      <td>0</td>\n",
       "    </tr>\n",
       "    <tr>\n",
       "      <th>1778</th>\n",
       "      <td>1779</td>\n",
       "      <td>1</td>\n",
       "    </tr>\n",
       "    <tr>\n",
       "      <th>1779</th>\n",
       "      <td>1780</td>\n",
       "      <td>0</td>\n",
       "    </tr>\n",
       "    <tr>\n",
       "      <th>1780</th>\n",
       "      <td>1781</td>\n",
       "      <td>1</td>\n",
       "    </tr>\n",
       "    <tr>\n",
       "      <th>1781</th>\n",
       "      <td>1782</td>\n",
       "      <td>0</td>\n",
       "    </tr>\n",
       "    <tr>\n",
       "      <th>1782</th>\n",
       "      <td>1783</td>\n",
       "      <td>0</td>\n",
       "    </tr>\n",
       "    <tr>\n",
       "      <th>1783</th>\n",
       "      <td>1784</td>\n",
       "      <td>0</td>\n",
       "    </tr>\n",
       "    <tr>\n",
       "      <th>1784</th>\n",
       "      <td>1785</td>\n",
       "      <td>0</td>\n",
       "    </tr>\n",
       "  </tbody>\n",
       "</table>\n",
       "<p>1785 rows × 2 columns</p>\n",
       "</div>"
      ],
      "text/plain": [
       "        id  harassment\n",
       "0        1           0\n",
       "1        2           0\n",
       "2        3           0\n",
       "3        4           1\n",
       "4        5           0\n",
       "5        6           0\n",
       "6        7           1\n",
       "7        8           0\n",
       "8        9           0\n",
       "9       10           0\n",
       "10      11           1\n",
       "11      12           1\n",
       "12      13           1\n",
       "13      14           1\n",
       "14      15           1\n",
       "15      16           0\n",
       "16      17           0\n",
       "17      18           0\n",
       "18      19           0\n",
       "19      20           1\n",
       "20      21           0\n",
       "21      22           1\n",
       "22      23           0\n",
       "23      24           0\n",
       "24      25           0\n",
       "25      26           0\n",
       "26      27           1\n",
       "27      28           0\n",
       "28      29           1\n",
       "29      30           0\n",
       "...    ...         ...\n",
       "1755  1756           0\n",
       "1756  1757           1\n",
       "1757  1758           0\n",
       "1758  1759           1\n",
       "1759  1760           0\n",
       "1760  1761           1\n",
       "1761  1762           0\n",
       "1762  1763           0\n",
       "1763  1764           0\n",
       "1764  1765           0\n",
       "1765  1766           0\n",
       "1766  1767           1\n",
       "1767  1768           1\n",
       "1768  1769           1\n",
       "1769  1770           0\n",
       "1770  1771           1\n",
       "1771  1772           0\n",
       "1772  1773           0\n",
       "1773  1774           0\n",
       "1774  1775           0\n",
       "1775  1776           0\n",
       "1776  1777           0\n",
       "1777  1778           0\n",
       "1778  1779           1\n",
       "1779  1780           0\n",
       "1780  1781           1\n",
       "1781  1782           0\n",
       "1782  1783           0\n",
       "1783  1784           0\n",
       "1784  1785           0\n",
       "\n",
       "[1785 rows x 2 columns]"
      ]
     },
     "execution_count": 16,
     "metadata": {},
     "output_type": "execute_result"
    }
   ],
   "source": [
    "datadura = pd.read_csv(\"./test_estimation.csv\")\n",
    "datadura"
   ]
  },
  {
   "cell_type": "markdown",
   "metadata": {},
   "source": [
    "<a id=\"refs\"></a>\n",
    "## Referencias\n",
    "[1] https://www.kaggle.com/sumanthvrao/daily-climate-time-series-data    \n",
    "[2] https://scikit-learn.org/stable/modules/generated/sklearn.ensemble.BaggingRegressor.html   \n",
    "[3] https://scikit-learn.org/stable/modules/generated/sklearn.ensemble.AdaBoostRegressor.html?highlight=adaboost#sklearn.ensemble.AdaBoostRegressor   \n",
    "[4] https://scikit-learn.org/stable/modules/generated/sklearn.ensemble.RandomForestRegressor.html?highlight=random%20forest#sklearn.ensemble.RandomForestRegressor"
   ]
  }
 ],
 "metadata": {
  "kernelspec": {
   "display_name": "Python 3",
   "language": "python",
   "name": "python3"
  },
  "language_info": {
   "codemirror_mode": {
    "name": "ipython",
    "version": 3
   },
   "file_extension": ".py",
   "mimetype": "text/x-python",
   "name": "python",
   "nbconvert_exporter": "python",
   "pygments_lexer": "ipython3",
   "version": "3.6.10"
  }
 },
 "nbformat": 4,
 "nbformat_minor": 2
}
